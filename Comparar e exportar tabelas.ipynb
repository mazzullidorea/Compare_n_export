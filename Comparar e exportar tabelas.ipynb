{
 "cells": [
  {
   "cell_type": "code",
   "execution_count": 16,
   "id": "1e1c205c",
   "metadata": {},
   "outputs": [
    {
     "name": "stdout",
     "output_type": "stream",
     "text": [
      "ok\n"
     ]
    }
   ],
   "source": [
    "import pandas as pd\n",
    "import openpyxl\n",
    "\n",
    "# ler as planilhas\n",
    "diario = pd.read_excel('Controle diário de pacotes LVM JANEIRO PRIMEIRA QUINZENA.xlsx', usecols='B:D', skiprows=1, nrows=12).dropna()\n",
    "geral = pd.read_excel('CONTROLE GERAL JANEIRO 2023.xlsx', sheet_name='UMEC', usecols='C:E', skiprows=13, nrows=12).dropna()\n",
    "fatura = pd.read_excel('EDMILSON.xlsx', usecols='C:E', skiprows=11, nrows=10).dropna()\n",
    "\n",
    "# checar se as tabelas tem o mesmo tamanho\n",
    "if len(diario) != len(geral):\n",
    "    print('As tabelas têm tamanhos diferentes')\n",
    "else:\n",
    "    # comparar o conteudo das linhas\n",
    "    erros = False\n",
    "    for i, (row1, row2) in enumerate(zip(diario.itertuples(index=False), geral.itertuples(index=False)), start=2):\n",
    "        if row1 != row2:\n",
    "            erros = True\n",
    "            print(f'As linhas {i} são diferentes')\n",
    "    if erros:\n",
    "        print('Algumas linhas são diferentes')\n",
    "    else:\n",
    "        # converter as colunas em int\n",
    "        geral[['CAPITAL', 'GRANDE SP', 'NOVAS']] = geral[['CAPITAL', 'GRANDE SP', 'NOVAS']].astype(int)\n",
    "        \n",
    "        # abrir a pasta de trabalho e a aba\n",
    "        workbook = openpyxl.load_workbook('EDMILSON.xlsx')\n",
    "        sheet = workbook['Demonstrativo']\n",
    "\n",
    "        # colar os dados \n",
    "        for col, col_data in zip(['C', 'D', 'E'], geral[['CAPITAL', 'GRANDE SP', 'NOVAS']].values.T):\n",
    "            for row, data in enumerate(col_data, start=15):\n",
    "                sheet[f'{col}{row}'] = data\n",
    "\n",
    "        # salvar o arquivo\n",
    "        workbook.save('EDMILSON.xlsx')\n",
    "        print('ok')\n"
   ]
  },
  {
   "cell_type": "code",
   "execution_count": null,
   "id": "eced2aa6",
   "metadata": {},
   "outputs": [],
   "source": []
  },
  {
   "cell_type": "code",
   "execution_count": null,
   "id": "d13f6390",
   "metadata": {},
   "outputs": [],
   "source": []
  }
 ],
 "metadata": {
  "kernelspec": {
   "display_name": "Python 3 (ipykernel)",
   "language": "python",
   "name": "python3"
  },
  "language_info": {
   "codemirror_mode": {
    "name": "ipython",
    "version": 3
   },
   "file_extension": ".py",
   "mimetype": "text/x-python",
   "name": "python",
   "nbconvert_exporter": "python",
   "pygments_lexer": "ipython3",
   "version": "3.9.13"
  }
 },
 "nbformat": 4,
 "nbformat_minor": 5
}
